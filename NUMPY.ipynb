{
 "cells": [
  {
   "cell_type": "markdown",
   "id": "4b11ec7b",
   "metadata": {},
   "source": [
    "# Numpy basics\n"
   ]
  },
  {
   "cell_type": "code",
   "execution_count": 1,
   "id": "5a03a893",
   "metadata": {},
   "outputs": [],
   "source": [
    "import numpy as np"
   ]
  },
  {
   "cell_type": "markdown",
   "id": "09f64693",
   "metadata": {},
   "source": [
    "# a)\tCreate a one-dimensional array and perform  all operations on it."
   ]
  },
  {
   "cell_type": "code",
   "execution_count": 2,
   "id": "d685d41a",
   "metadata": {},
   "outputs": [
    {
     "name": "stdout",
     "output_type": "stream",
     "text": [
      "Array elements are: [1 2 3 4 5]\n",
      "Array operations are:\n",
      "Addition : [ 2  4  6  8 10]\n",
      "Subtraction : [0 0 0 0 0]\n",
      "Multiplication : [ 1  4  9 16 25]\n",
      "division :  [1 1 1 1 1]\n",
      "Modules : [0 0 0 0 0]\n",
      "Array sin : [ 0.84147098  0.90929743  0.14112001 -0.7568025  -0.95892427]\n",
      "Sqrt root : [1.         1.41421356 1.73205081 2.         2.23606798]\n"
     ]
    }
   ],
   "source": [
    "#one-d array\n",
    "arr=np.array([1,2,3,4,5])\n",
    "print(\"Array elements are:\",arr)\n",
    "print(\"Array operations are:\")\n",
    "print(\"Addition :\",arr+arr)\n",
    "print(\"Subtraction :\",arr-arr)\n",
    "print(\"Multiplication :\",arr*arr)\n",
    "print(\"division : \",arr//arr)\n",
    "print(\"Modules :\",arr%arr)\n",
    "print(\"Array sin :\",np.sin(arr))\n",
    "print(\"Sqrt root :\",np.sqrt(arr))"
   ]
  },
  {
   "cell_type": "markdown",
   "id": "c8bb1334",
   "metadata": {},
   "source": [
    "# b)\tCreate multi-dimensional arrays and find its shape and dimension "
   ]
  },
  {
   "cell_type": "code",
   "execution_count": 3,
   "id": "7f3eec49",
   "metadata": {},
   "outputs": [
    {
     "name": "stdout",
     "output_type": "stream",
     "text": [
      "Array elements :  [[1 2 3]\n",
      " [4 5 6]]\n",
      "Shape : (2, 3)\n",
      "Dimention : 2\n"
     ]
    }
   ],
   "source": [
    "arr =np.array([[1,2,3],[4,5,6]])\n",
    "print(\"Array elements : \",arr) #printing array\n",
    "print(\"Shape :\",arr.shape) #printing shape\n",
    "print(\"Dimention :\",arr.ndim) #printing dimention"
   ]
  },
  {
   "cell_type": "markdown",
   "id": "cd437eba",
   "metadata": {},
   "source": [
    "# c)\tCreate a matrix full of zeros and ones \n"
   ]
  },
  {
   "cell_type": "code",
   "execution_count": 4,
   "id": "c6fc7e69",
   "metadata": {},
   "outputs": [
    {
     "name": "stdout",
     "output_type": "stream",
     "text": [
      "Array full of zeros : [[0. 0. 0.]\n",
      " [0. 0. 0.]\n",
      " [0. 0. 0.]]\n",
      "Array full of ones : [[1. 1. 1.]\n",
      " [1. 1. 1.]\n",
      " [1. 1. 1.]]\n"
     ]
    }
   ],
   "source": [
    "arr = np.zeros((3,3))\n",
    "print(\"Array full of zeros :\",arr) #printing array zeros\n",
    "arr = np.ones((3,3))\n",
    "print(\"Array full of ones :\",arr) #printing array ones"
   ]
  },
  {
   "cell_type": "markdown",
   "id": "1893c160",
   "metadata": {},
   "source": [
    "# d)\tReshape and flatten data in the array "
   ]
  },
  {
   "cell_type": "code",
   "execution_count": 6,
   "id": "a9e06666",
   "metadata": {},
   "outputs": [
    {
     "name": "stdout",
     "output_type": "stream",
     "text": [
      "Original array : [[1 2 3]\n",
      " [4 5 6]]\n",
      "Reshaped array : [[1 2]\n",
      " [3 4]\n",
      " [5 6]]\n",
      "Flatten array : [1 2 3 4 5 6]\n"
     ]
    }
   ],
   "source": [
    "arr =np.array([[1,2,3],[4,5,6]])\n",
    "print(\"Original array :\",arr) #original array\n",
    "print(\"Reshaped array :\",arr.reshape(3,2)) #3x2 reshaped array\n",
    "print(\"Flatten array :\",arr.flatten()) #all elements to one-d array"
   ]
  },
  {
   "cell_type": "markdown",
   "id": "49752e94",
   "metadata": {},
   "source": [
    "# e)\tPerform arithmetic operations on multi-dimensional  arrays"
   ]
  },
  {
   "cell_type": "code",
   "execution_count": 11,
   "id": "0a53850b",
   "metadata": {},
   "outputs": [
    {
     "name": "stdout",
     "output_type": "stream",
     "text": [
      "array1 :\n",
      " [[1 2 3]\n",
      " [4 5 6]]\n",
      "array2 :\n",
      " [[ 7  8  9]\n",
      " [10 11 12]]\n",
      "Addition :\n",
      " [[ 8 10 12]\n",
      " [14 16 18]]\n",
      "Multiplication : \n",
      " [[ 7 16 27]\n",
      " [40 55 72]]\n",
      "Subtraction : \n",
      " [[-6 -6 -6]\n",
      " [-6 -6 -6]]\n",
      "division :\n",
      " [[0.14285714 0.25       0.33333333]\n",
      " [0.4        0.45454545 0.5       ]]\n"
     ]
    }
   ],
   "source": [
    "arr1=np.array([[1,2,3,],[4,5,6]])\n",
    "arr2=np.array([[7,8,9],[10,11,12]])\n",
    "print(\"array1 :\\n\",arr1)\n",
    "print(\"array2 :\\n\",arr2)\n",
    "print(\"Addition :\\n\",arr1+arr2)\n",
    "print(\"Multiplication : \\n\",arr1*arr2)\n",
    "print(\"Subtraction : \\n\",arr1-arr2)\n",
    "print(\"division :\\n\",arr1/arr2)"
   ]
  },
  {
   "cell_type": "markdown",
   "id": "4671dac9",
   "metadata": {},
   "source": [
    "# f)\tAppend data vertically and horizontally "
   ]
  },
  {
   "cell_type": "code",
   "execution_count": 13,
   "id": "ee503e03",
   "metadata": {},
   "outputs": [
    {
     "name": "stdout",
     "output_type": "stream",
     "text": [
      "Vertical stack array :\n",
      "[[ 1  2  3]\n",
      " [ 4  5  6]\n",
      " [ 7  8  9]\n",
      " [10 11 12]]\n",
      "horizontal stack array :\n",
      "[[ 1  2  3  7  8  9]\n",
      " [ 4  5  6 10 11 12]]\n"
     ]
    }
   ],
   "source": [
    "print(\"Vertical stack array :\")\n",
    "print(np.vstack((arr1,arr2)))\n",
    "print(\"horizontal stack array :\")\n",
    "print(np.hstack((arr1,arr2)))"
   ]
  },
  {
   "cell_type": "markdown",
   "id": "788dc27d",
   "metadata": {},
   "source": [
    "# g)\tApply indexing and slicing on array "
   ]
  },
  {
   "cell_type": "code",
   "execution_count": 19,
   "id": "9671cf50",
   "metadata": {},
   "outputs": [
    {
     "name": "stdout",
     "output_type": "stream",
     "text": [
      "Array indexing  :  6\n",
      "Array slicing left:\n",
      " [[4 5 6]\n",
      " [7 8 9]]\n",
      "Array slicing right:\n",
      " [[1 2 3]\n",
      " [4 5 6]]\n",
      "Array subset :\n",
      " [[2 3]\n",
      " [5 6]]\n"
     ]
    }
   ],
   "source": [
    "arr=np.array([[1,2,3],\n",
    "             [4,5,6],\n",
    "             [7,8,9]])\n",
    "#indexing\n",
    "print(\"Array indexing  : \",arr[1,2])\n",
    "#slicing\n",
    "print(\"Array slicing left:\\n\",arr[1:])\n",
    "print(\"Array slicing right:\\n\",arr[:2])\n",
    "print(\"Array subset :\\n\",arr[0:2,1:3])"
   ]
  },
  {
   "cell_type": "markdown",
   "id": "01165db8",
   "metadata": {},
   "source": [
    "# h)\tUse statistical functions on array – Min, Max, Mean, Median and Standard Deviation "
   ]
  },
  {
   "cell_type": "code",
   "execution_count": 21,
   "id": "9331bbfe",
   "metadata": {},
   "outputs": [
    {
     "name": "stdout",
     "output_type": "stream",
     "text": [
      "Min function :\n",
      " 1\n",
      "Max function :\n",
      " 9\n",
      "Mean :\n",
      " 5.0\n",
      "Median :\n",
      " 5.0\n",
      "Standard Deviation:\n",
      " 2.581988897471611\n"
     ]
    }
   ],
   "source": [
    "print(\"Min function :\\n\",np.min(arr))\n",
    "print(\"Max function :\\n\",np.max(arr))\n",
    "print(\"Mean :\\n\",np.mean(arr))\n",
    "print(\"Median :\\n\",np.median(arr))\n",
    "print(\"Standard Deviation:\\n\",np.std(arr))"
   ]
  },
  {
   "cell_type": "markdown",
   "id": "92286e03",
   "metadata": {},
   "source": [
    "# i)\tDot  matrix product of two arrays "
   ]
  },
  {
   "cell_type": "code",
   "execution_count": 25,
   "id": "002999c5",
   "metadata": {},
   "outputs": [
    {
     "name": "stdout",
     "output_type": "stream",
     "text": [
      "Matrix dot product :\n",
      " [[ 39  45  51]\n",
      " [102 117 132]\n",
      " [165 189 213]]\n"
     ]
    }
   ],
   "source": [
    "#dot product\n",
    "arr1=np.array([[1,2,3,],[4,5,6],[7,8,9]])\n",
    "arr2=np.array([[7,8,9],[10,11,12],[4,5,6]])\n",
    "print(\"Matrix dot product :\\n\",np.dot(arr1,arr2))"
   ]
  },
  {
   "cell_type": "markdown",
   "id": "e0befa6b",
   "metadata": {},
   "source": [
    "# j)\tCompute the Eigen values of a matrix "
   ]
  },
  {
   "cell_type": "code",
   "execution_count": 28,
   "id": "0f34a8b4",
   "metadata": {},
   "outputs": [
    {
     "name": "stdout",
     "output_type": "stream",
     "text": [
      "Eigen values :\n",
      " [-0.37228132  5.37228132]\n"
     ]
    }
   ],
   "source": [
    "matrix=np.array([[1,2],[3,4]])\n",
    "eigenvalues=np.linalg.eigvals(matrix) #linalg means linear algebra\n",
    "print(\"Eigen values :\\n\",eigenvalues)"
   ]
  },
  {
   "cell_type": "markdown",
   "id": "0a581ea4",
   "metadata": {},
   "source": [
    "# k)\tSolve a linear matrix equation such as 3 * x0 + x1 = 9, x0 + 2 * x1 = 8 "
   ]
  },
  {
   "cell_type": "code",
   "execution_count": 30,
   "id": "b3627bb9",
   "metadata": {},
   "outputs": [
    {
     "name": "stdout",
     "output_type": "stream",
     "text": [
      "Solution of equations :\n",
      "x0 =  2.0\n",
      "x1 =  3.0\n"
     ]
    }
   ],
   "source": [
    "A=np.array([[3,1],[1,2]])\n",
    "B=np.array([9,8])\n",
    "solution=np.linalg.solve(A,B)\n",
    "print(\"Solution of equations :\")\n",
    "print(\"x0 = \",solution[0])\n",
    "print('x1 = ',solution[1])"
   ]
  },
  {
   "cell_type": "markdown",
   "id": "a320a851",
   "metadata": {},
   "source": [
    "# l)\tCompute the multiplicative inverse of a matrix "
   ]
  },
  {
   "cell_type": "code",
   "execution_count": 32,
   "id": "e0ca570d",
   "metadata": {},
   "outputs": [
    {
     "name": "stdout",
     "output_type": "stream",
     "text": [
      "Matrix :\n",
      " [[4 7]\n",
      " [2 6]]\n",
      "Inverse Matrix :\n",
      " [[ 0.6 -0.7]\n",
      " [-0.2  0.4]]\n"
     ]
    }
   ],
   "source": [
    "matrix=np.array([[4,7],[2,6]])\n",
    "print(\"Matrix :\\n\",matrix)\n",
    "print(\"Inverse Matrix :\\n\",np.linalg.inv(matrix))"
   ]
  },
  {
   "cell_type": "markdown",
   "id": "e093b29f",
   "metadata": {},
   "source": [
    "# m)\tCompute the rank of a matrix "
   ]
  },
  {
   "cell_type": "code",
   "execution_count": 33,
   "id": "6a14dc36",
   "metadata": {},
   "outputs": [
    {
     "name": "stdout",
     "output_type": "stream",
     "text": [
      "Matrix rank :\n",
      " 2\n"
     ]
    }
   ],
   "source": [
    "print(\"Matrix rank :\\n\",np.linalg.matrix_rank(matrix))"
   ]
  },
  {
   "cell_type": "markdown",
   "id": "539ca862",
   "metadata": {},
   "source": [
    "# n) Compute the determinant of an array"
   ]
  },
  {
   "cell_type": "code",
   "execution_count": 34,
   "id": "eccf2d99",
   "metadata": {},
   "outputs": [
    {
     "name": "stdout",
     "output_type": "stream",
     "text": [
      "Matrix determinant :\n",
      " 10.000000000000002\n"
     ]
    }
   ],
   "source": [
    "print(\"Matrix determinant :\\n\",np.linalg.det(matrix))"
   ]
  },
  {
   "cell_type": "markdown",
   "id": "63365db6",
   "metadata": {},
   "source": [
    "# o)\tPerform transpose and change of axes operations on arrays"
   ]
  },
  {
   "cell_type": "code",
   "execution_count": 38,
   "id": "72a5d2ca",
   "metadata": {},
   "outputs": [
    {
     "name": "stdout",
     "output_type": "stream",
     "text": [
      "Array Transpose :\n",
      " [[1 4 7]\n",
      " [2 5 8]\n",
      " [3 6 9]]\n",
      "Swap axes :\n",
      " [[1 4 7]\n",
      " [2 5 8]\n",
      " [3 6 9]]\n"
     ]
    }
   ],
   "source": [
    "arr=np.array([[1,2,3],[4,5,6],[7,8,9]])\n",
    "print(\"Array Transpose :\\n\",arr.T)\n",
    "print(\"Swap axes :\\n\",np.swapaxes(arr,0,1))"
   ]
  },
  {
   "cell_type": "markdown",
   "id": "f8f9f476",
   "metadata": {},
   "source": [
    "# p)\tPerform splitting operations on arrays"
   ]
  },
  {
   "cell_type": "code",
   "execution_count": 42,
   "id": "25421593",
   "metadata": {},
   "outputs": [
    {
     "name": "stdout",
     "output_type": "stream",
     "text": [
      "Original Array:\n",
      "[[ 1  2  3  4]\n",
      " [ 5  6  7  8]\n",
      " [ 9 10 11 12]]\n",
      "\n",
      "Horizontally Split Array:\n",
      "[[ 1  2]\n",
      " [ 5  6]\n",
      " [ 9 10]]\n",
      "[[ 3  4]\n",
      " [ 7  8]\n",
      " [11 12]]\n",
      "\n",
      "Vertically Split Array:\n",
      "[[1 2 3 4]]\n",
      "[[5 6 7 8]]\n",
      "[[ 9 10 11 12]]\n",
      "\n",
      "Custom Split Array:\n",
      "[[1]\n",
      " [5]\n",
      " [9]]\n",
      "[[ 2  3]\n",
      " [ 6  7]\n",
      " [10 11]]\n",
      "[[ 4]\n",
      " [ 8]\n",
      " [12]]\n"
     ]
    }
   ],
   "source": [
    "import numpy as np\n",
    "\n",
    "# Create a 2D array\n",
    "original_array = np.array([[1, 2, 3, 4],\n",
    "                           [5, 6, 7, 8],\n",
    "                           [9, 10, 11, 12]])\n",
    "\n",
    "# Split the array horizontally into two parts\n",
    "horizontally_split = np.hsplit(original_array, 2)\n",
    "\n",
    "# Split the array vertically into three parts\n",
    "vertically_split = np.vsplit(original_array, 3)\n",
    "\n",
    "# Split the array at specified indices\n",
    "custom_split = np.split(original_array, [1, 3], axis=1)\n",
    "\n",
    "print(\"Original Array:\")\n",
    "print(original_array)\n",
    "\n",
    "print(\"\\nHorizontally Split Array:\")\n",
    "for part in horizontally_split:\n",
    "    print(part)\n",
    "\n",
    "print(\"\\nVertically Split Array:\")\n",
    "for part in vertically_split:\n",
    "    print(part)\n",
    "\n",
    "print(\"\\nCustom Split Array:\")\n",
    "for part in custom_split:\n",
    "    print(part)\n"
   ]
  },
  {
   "cell_type": "code",
   "execution_count": null,
   "id": "c4cd9bbc",
   "metadata": {},
   "outputs": [],
   "source": []
  }
 ],
 "metadata": {
  "kernelspec": {
   "display_name": "Python 3 (ipykernel)",
   "language": "python",
   "name": "python3"
  },
  "language_info": {
   "codemirror_mode": {
    "name": "ipython",
    "version": 3
   },
   "file_extension": ".py",
   "mimetype": "text/x-python",
   "name": "python",
   "nbconvert_exporter": "python",
   "pygments_lexer": "ipython3",
   "version": "3.10.9"
  }
 },
 "nbformat": 4,
 "nbformat_minor": 5
}
